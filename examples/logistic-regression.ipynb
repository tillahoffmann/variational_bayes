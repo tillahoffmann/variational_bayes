{
 "cells": [
  {
   "cell_type": "code",
   "execution_count": null,
   "metadata": {},
   "outputs": [],
   "source": [
    "import variational_bayes as vb\n",
    "import numpy as np\n",
    "from scipy.special import expit\n",
    "from matplotlib import pyplot as plt\n",
    "%matplotlib inline"
   ]
  },
  {
   "cell_type": "code",
   "execution_count": null,
   "metadata": {},
   "outputs": [],
   "source": [
    "# Define parameters\n",
    "np.random.seed(1)\n",
    "num_samples = 10000\n",
    "num_dims = 3\n",
    "bias = -8\n",
    "\n",
    "# Generate data\n",
    "features = np.hstack([\n",
    "    np.ones((num_samples, 1)), \n",
    "    np.random.normal(0, 1, (num_samples, num_dims))\n",
    "])\n",
    "theta = np.concatenate([[bias], np.random.normal(0, 1, num_dims)])\n",
    "predictor = np.dot(features, theta)\n",
    "proba = expit(predictor)\n",
    "\n",
    "x = np.random.uniform(0, 1, proba.shape) < proba\n",
    "print(\"Mean prevalence: %s\" % np.mean(x))"
   ]
  },
  {
   "cell_type": "code",
   "execution_count": null,
   "metadata": {},
   "outputs": [],
   "source": [
    "# Define the factors\n",
    "q_theta = vb.MultiNormalDistribution(\n",
    "    np.random.normal(0, 1e-3, num_dims + 1),\n",
    "    np.diag(1e-3 * np.ones(num_dims + 1))\n",
    ")\n",
    "# Define the helper parameters\n",
    "q_xi = vb.DeltaDistribution(np.abs(np.random.normal(0, 1e-3, num_samples)))\n",
    "\n",
    "# Define likelihoods (delta distriutions do not need priors)\n",
    "likelihoods = [\n",
    "    vb.LogisticLikelihood(x, features, q_theta, q_xi),\n",
    "    vb.NormalLikelihood(q_theta, 0, 1e-3),\n",
    "]\n",
    "\n",
    "model = vb.Model({'theta': q_theta, 'xi': q_xi}, likelihoods)"
   ]
  },
  {
   "cell_type": "code",
   "execution_count": null,
   "metadata": {},
   "outputs": [],
   "source": [
    "# Optimize the evidence lower bound\n",
    "elbo, _ = model.update(\n",
    "    None, convergence_predicate=vb.ConvergencePredicate(1e-4, 10)\n",
    ")\n",
    "plt.plot(elbo)"
   ]
  },
  {
   "cell_type": "code",
   "execution_count": null,
   "metadata": {},
   "outputs": [],
   "source": [
    "vb.plot_comparison(model['theta'], theta)"
   ]
  }
 ],
 "metadata": {
  "kernelspec": {
   "display_name": "Python 3",
   "language": "python",
   "name": "python3"
  },
  "language_info": {
   "codemirror_mode": {
    "name": "ipython",
    "version": 3
   },
   "file_extension": ".py",
   "mimetype": "text/x-python",
   "name": "python",
   "nbconvert_exporter": "python",
   "pygments_lexer": "ipython3",
   "version": "3.5.3"
  }
 },
 "nbformat": 4,
 "nbformat_minor": 2
}
