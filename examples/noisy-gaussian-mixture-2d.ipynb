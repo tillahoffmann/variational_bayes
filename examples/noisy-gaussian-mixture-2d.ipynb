{
 "cells": [
  {
   "cell_type": "code",
   "execution_count": null,
   "metadata": {},
   "outputs": [],
   "source": [
    "import variational_bayes as vb\n",
    "import numpy as np\n",
    "from matplotlib import pyplot as plt, rcParams\n",
    "from tqdm import tqdm_notebook\n",
    "import scipy.stats\n",
    "%matplotlib inline\n",
    "rcParams['figure.dpi'] = 144\n",
    "rcParams['scatter.marker'] = '.'\n",
    "\n",
    "np.random.seed(9)\n",
    "num_samples = 1000\n",
    "num_groups = 5\n",
    "noise_precision = 100\n",
    "\n",
    "z = np.random.choice(num_groups, num_samples)\n",
    "group_mean = np.random.normal(0, 1, (num_groups, 2))\n",
    "group_precision = scipy.stats.wishart.rvs(1000, [[1, -.5], [-.5, 1]], num_groups)\n",
    "cholesky = np.linalg.cholesky(np.linalg.inv(group_precision))\n",
    "\n",
    "x = group_mean[z] + np.einsum('iab,ia->ib', cholesky[z], np.random.normal(0, 1, (num_samples, 2)))\n",
    "y = x + np.random.normal(0, 1, x.shape) / np.sqrt(noise_precision)\n",
    "\n",
    "plt.scatter(*y.T, c=z, cmap='Set1')\n",
    "plt.gca().set_aspect(1)"
   ]
  },
  {
   "cell_type": "code",
   "execution_count": null,
   "metadata": {},
   "outputs": [],
   "source": [
    "def mixture_model(num_groups):\n",
    "    # Set up the factors\n",
    "    q_mean = vb.MultiNormalDistribution(np.random.normal(0, 1e-3, (num_groups, 2)), \n",
    "                                        np.ones((num_groups, 1, 1)) * np.eye(2) * 1e-3)\n",
    "    q_precision = vb.WishartDistribution(np.ones(num_groups) + 1e-5, np.ones((num_groups, 1, 1)) * np.eye(2) * 1e-5)\n",
    "    q_z = vb.CategoricalDistribution(np.random.dirichlet(1000 * np.ones(num_groups), num_samples))\n",
    "    q_x = vb.MultiNormalDistribution(y, np.ones((num_samples, 1, 1)) * np.eye(2) * 1e-3)\n",
    "    \n",
    "    # Evaluate the likelihood\n",
    "    mixture_likelihood = vb.MixtureDistribution(\n",
    "        q_z, vb.MultiNormalDistribution(q_mean, q_precision)\n",
    "    ).likelihood(vb.ReshapedDistribution(q_x, (num_samples, 1)))\n",
    "    y_likelihood = vb.MultiNormalDistribution(\n",
    "        q_x, np.ones((num_samples, 1, 1)) * np.eye(2) * noise_precision\n",
    "    ).likelihood(y)\n",
    "    \n",
    "    mean_prior = vb.MultiNormalDistribution(np.ones(2), 1e-4 * np.eye(2)).likelihood(q_mean)\n",
    "    precision_prior = vb.WishartDistribution(2, 0.2 * np.eye(2)).likelihood(q_precision)\n",
    "    z_prior = vb.CategoricalDistribution(np.ones(num_groups) / num_groups).likelihood(q_z)\n",
    "\n",
    "    return vb.Model({'mean': q_mean, 'precision': q_precision, 'z': q_z, 'x': q_x}, \n",
    "                    [mixture_likelihood, z_prior, mean_prior, precision_prior, y_likelihood])"
   ]
  },
  {
   "cell_type": "code",
   "execution_count": null,
   "metadata": {},
   "outputs": [],
   "source": [
    "ensemble = vb.ModelEnsemble(mixture_model, [num_groups])\n",
    "model = ensemble.update(100, None, tqdm_notebook, convergence_predicate=1e-5, num_processes=4)\n",
    "\n",
    "plt.imshow(model['z'].mean[np.argsort(z)], aspect='auto')"
   ]
  },
  {
   "cell_type": "code",
   "execution_count": null,
   "metadata": {},
   "outputs": [],
   "source": [
    "fig, (ax, ax2) = plt.subplots(1, 2, True, True)\n",
    "ax.scatter(*model['x'].mean.T, c=z, cmap='Set1')\n",
    "ax.scatter(*model['mean'].mean.T, marker='x', color='k')\n",
    "for i in range(num_groups):\n",
    "    ax.add_artist(vb.ellipse_from_cov(\n",
    "        model['mean'].mean[i], \n",
    "        np.linalg.inv(model['precision'].mean[i]),\n",
    "        facecolor='none', edgecolor='k'\n",
    "    ))\n",
    "    \n",
    "ax2.scatter(*x.T, c=z, cmap='Set1')\n",
    "ax2.scatter(*group_mean.T, marker='x', color='k')\n",
    "for i in range(num_groups):\n",
    "    ax2.add_artist(vb.ellipse_from_cov(\n",
    "        group_mean[i], \n",
    "        np.linalg.inv(group_precision[i]),\n",
    "        facecolor='none', edgecolor='k'\n",
    "    ))\n",
    "ax.set_aspect(1)"
   ]
  },
  {
   "cell_type": "code",
   "execution_count": null,
   "metadata": {},
   "outputs": [],
   "source": [
    "num = [1, 2, 3, 4, 5, 6, 7, 8, 9, 10, 11, 12, 13]\n",
    "elbos = []\n",
    "\n",
    "for n in tqdm_notebook(num):\n",
    "    model = mixture_model(n)\n",
    "    elbo, _ = model.update(200)\n",
    "    elbos.append(elbo[-1])\n",
    "    \n",
    "plt.plot(num, elbos, marker='.')\n",
    "plt.axvline(num_groups)\n",
    "plt.ylabel('ELBO')\n",
    "plt.xlabel('Number of groups')"
   ]
  }
 ],
 "metadata": {
  "kernelspec": {
   "display_name": "Python 3",
   "language": "python",
   "name": "python3"
  },
  "language_info": {
   "codemirror_mode": {
    "name": "ipython",
    "version": 3
   },
   "file_extension": ".py",
   "mimetype": "text/x-python",
   "name": "python",
   "nbconvert_exporter": "python",
   "pygments_lexer": "ipython3",
   "version": "3.5.3"
  }
 },
 "nbformat": 4,
 "nbformat_minor": 2
}
