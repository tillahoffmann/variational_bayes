{
 "cells": [
  {
   "cell_type": "code",
   "execution_count": null,
   "metadata": {},
   "outputs": [],
   "source": [
    "import numpy as np\n",
    "import variational_bayes as vb\n",
    "from matplotlib import pyplot as plt\n",
    "%matplotlib inline"
   ]
  },
  {
   "cell_type": "code",
   "execution_count": null,
   "metadata": {},
   "outputs": [],
   "source": [
    "def simulate(n, m, population_precision=1):\n",
    "    x = np.random.normal(0, 1, n) / np.sqrt(population_precision)\n",
    "    y = np.random.normal(0, 1, (m, n)) + x[None, :]\n",
    "    return x, y\n",
    "\n",
    "x, y = simulate(10, 10)"
   ]
  },
  {
   "cell_type": "code",
   "execution_count": null,
   "metadata": {},
   "outputs": [],
   "source": [
    "def hierarchical_model(y):\n",
    "    factors = {\n",
    "        'x': vb.NormalDistribution(np.zeros(y.shape[1]), np.ones(y.shape[1])),\n",
    "        'precision': vb.GammaDistribution(1, 1)\n",
    "    }\n",
    "    likelihoods = [\n",
    "        vb.NormalDistribution(0, factors['precision']).likelihood(factors['x']),\n",
    "        vb.NormalDistribution(factors['x'], 1).likelihood(y)\n",
    "    ]\n",
    "    model = vb.Model(factors, likelihoods)\n",
    "    model.update(10)\n",
    "    return model\n",
    "\n",
    "\n",
    "def naive_model(y):\n",
    "    factors = {\n",
    "        'x': vb.NormalDistribution(np.zeros(y.shape[1]), np.ones(y.shape[1])),\n",
    "    }\n",
    "    likelihoods = [\n",
    "        vb.NormalDistribution(factors['x'], 1).likelihood(y)\n",
    "    ]\n",
    "    model = vb.Model(factors, likelihoods)\n",
    "    model.update(1)\n",
    "    return model"
   ]
  },
  {
   "cell_type": "code",
   "execution_count": null,
   "metadata": {},
   "outputs": [],
   "source": [
    "population_precisions = np.logspace(-3, 3, 21)\n",
    "num_runs = 10\n",
    "num_items = 100\n",
    "num_obs = 100\n",
    "\n",
    "naive_rmses = []\n",
    "hierarchical_rmses = []\n",
    "\n",
    "for population_precision in population_precisions:\n",
    "    naive_rmse = []\n",
    "    hierarchical_rmse = []\n",
    "    for _ in range(num_runs):\n",
    "        x, y = simulate(num_items, num_obs, population_precision * num_obs)\n",
    "        model = naive_model(y)\n",
    "        naive_rmse.append(np.sqrt(np.mean(np.square(model['x'].mean - x))))\n",
    "        model = hierarchical_model(y)\n",
    "        hierarchical_rmse.append(np.sqrt(np.mean(np.square(model['x'].mean - x))))\n",
    "        \n",
    "    naive_rmses.append(naive_rmse)\n",
    "    hierarchical_rmses.append(hierarchical_rmse)"
   ]
  },
  {
   "cell_type": "code",
   "execution_count": null,
   "metadata": {},
   "outputs": [],
   "source": [
    "plt.errorbar(population_precisions, np.mean(naive_rmses, axis=1), vb.std_mean(naive_rmses, axis=1),\n",
    "             label='naive')\n",
    "plt.errorbar(population_precisions, np.mean(hierarchical_rmses, axis=1), vb.std_mean(hierarchical_rmses, axis=1),\n",
    "             label='hierarchical')\n",
    "plt.xscale('log')\n",
    "plt.ylabel('RMSE')\n",
    "plt.xlabel('Prior precision / likelihood precision')\n",
    "plt.legend()\n",
    "plt.tight_layout()"
   ]
  }
 ],
 "metadata": {
  "kernelspec": {
   "display_name": "Python 3",
   "language": "python",
   "name": "python3"
  },
  "language_info": {
   "codemirror_mode": {
    "name": "ipython",
    "version": 3
   },
   "file_extension": ".py",
   "mimetype": "text/x-python",
   "name": "python",
   "nbconvert_exporter": "python",
   "pygments_lexer": "ipython3",
   "version": "3.5.3"
  }
 },
 "nbformat": 4,
 "nbformat_minor": 2
}
