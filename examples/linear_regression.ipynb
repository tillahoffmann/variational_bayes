{
 "cells": [
  {
   "cell_type": "code",
   "execution_count": null,
   "metadata": {},
   "outputs": [],
   "source": [
    "import variational_bayes as vb\n",
    "import numpy as np\n",
    "from matplotlib import pyplot as plt\n",
    "%matplotlib inline"
   ]
  },
  {
   "cell_type": "code",
   "execution_count": null,
   "metadata": {},
   "outputs": [],
   "source": [
    "# Define parameters\n",
    "np.random.seed(1)\n",
    "n, p = 100, 3\n",
    "regression_precision = 5\n",
    "measurement_precision = 10\n",
    "\n",
    "\n",
    "# Generate data\n",
    "features = np.random.normal(0, 1, (n, p))\n",
    "measurements = features + np.random.normal(0, 1, (n, p)) / np.sqrt(measurement_precision)\n",
    "coefficients = np.random.normal(0, 1, p)\n",
    "predictor = np.dot(features, coefficients)\n",
    "y = predictor + np.random.normal(0, 1, n) / np.sqrt(regression_precision)"
   ]
  },
  {
   "cell_type": "markdown",
   "metadata": {},
   "source": [
    "# Regression with exactly measured covariates"
   ]
  },
  {
   "cell_type": "code",
   "execution_count": null,
   "metadata": {},
   "outputs": [],
   "source": [
    "factors = {\n",
    "    'coefficients': vb.MultiNormalDistribution(np.zeros(p), np.eye(p)),\n",
    "    'precision': vb.GammaDistribution(1, 1)\n",
    "}\n",
    "likelihoods = [\n",
    "    vb.LinearRegressionDistribution(features, factors['coefficients'], factors['precision']).likelihood(y)\n",
    "]\n",
    "model = vb.Model(factors, likelihoods)\n",
    "model.update(10)"
   ]
  },
  {
   "cell_type": "code",
   "execution_count": null,
   "metadata": {},
   "outputs": [],
   "source": [
    "vb.plot_proba(factors['precision'], reference=regression_precision)"
   ]
  },
  {
   "cell_type": "code",
   "execution_count": null,
   "metadata": {},
   "outputs": [],
   "source": [
    "vb.plot_comparison(factors['coefficients'], coefficients)"
   ]
  },
  {
   "cell_type": "markdown",
   "metadata": {},
   "source": [
    "# Regression with noisy covariates"
   ]
  },
  {
   "cell_type": "code",
   "execution_count": null,
   "metadata": {},
   "outputs": [],
   "source": [
    "factors = {\n",
    "    'coefficients': vb.MultiNormalDistribution(np.zeros(p), np.eye(p)),\n",
    "    'regression_precision': vb.GammaDistribution(1, 1),\n",
    "    'features': vb.MultiNormalDistribution(np.zeros((n, p)), np.eye(p) * np.ones((n, 1, 1))),\n",
    "    # 'measurement_precision': vb.GammaDistribution(1, 1),\n",
    "}\n",
    "likelihoods = [\n",
    "    vb.LinearRegressionDistribution(\n",
    "        factors['features'], factors['coefficients'], factors['regression_precision']\n",
    "    ).likelihood(y),\n",
    "    vb.NormalDistribution(factors['features'], measurement_precision).likelihood(measurements)\n",
    "]\n",
    "model = vb.Model(factors, likelihoods)\n",
    "model.update(200)\n",
    "pass"
   ]
  },
  {
   "cell_type": "code",
   "execution_count": null,
   "metadata": {},
   "outputs": [],
   "source": [
    "vb.plot_proba(factors['regression_precision'], reference=regression_precision)"
   ]
  },
  {
   "cell_type": "code",
   "execution_count": null,
   "metadata": {},
   "outputs": [],
   "source": [
    "vb.plot_comparison(factors['features'], features, marker='.')"
   ]
  },
  {
   "cell_type": "code",
   "execution_count": null,
   "metadata": {},
   "outputs": [],
   "source": [
    "vb.plot_comparison(factors['coefficients'], coefficients, marker='.')"
   ]
  },
  {
   "cell_type": "code",
   "execution_count": null,
   "metadata": {},
   "outputs": [],
   "source": [
    "for i in range(p):\n",
    "    print(i)\n",
    "    print(\"Raw measurement correlation\", np.corrcoef(measurements[:, i], features[:, i], rowvar=False)[0, 1])\n",
    "    print(\"Inferred features correlation\", np.corrcoef(factors['features'].mean[:, i], features[:, i], rowvar=False)[0, 1])\n",
    "    print()"
   ]
  },
  {
   "cell_type": "markdown",
   "metadata": {},
   "source": [
    "# Regression with noisy covariates incorrectly assumed to be exact"
   ]
  },
  {
   "cell_type": "code",
   "execution_count": null,
   "metadata": {},
   "outputs": [],
   "source": [
    "factors = {\n",
    "    'coefficients': vb.MultiNormalDistribution(np.zeros(p), np.eye(p)),\n",
    "    'precision': vb.GammaDistribution(1, 1)\n",
    "}\n",
    "likelihoods = [\n",
    "    vb.LinearRegressionDistribution(measurements, factors['coefficients'], factors['precision']).likelihood(y)\n",
    "]\n",
    "model = vb.Model(factors, likelihoods)\n",
    "model.update(10)"
   ]
  },
  {
   "cell_type": "code",
   "execution_count": null,
   "metadata": {},
   "outputs": [],
   "source": [
    "vb.plot_proba(factors['precision'], reference=regression_precision)"
   ]
  },
  {
   "cell_type": "code",
   "execution_count": null,
   "metadata": {},
   "outputs": [],
   "source": [
    "vb.plot_comparison(factors['coefficients'], coefficients, marker='.')"
   ]
  }
 ],
 "metadata": {
  "kernelspec": {
   "display_name": "Python 3",
   "language": "python",
   "name": "python3"
  },
  "language_info": {
   "codemirror_mode": {
    "name": "ipython",
    "version": 3
   },
   "file_extension": ".py",
   "mimetype": "text/x-python",
   "name": "python",
   "nbconvert_exporter": "python",
   "pygments_lexer": "ipython3",
   "version": "3.6.1"
  }
 },
 "nbformat": 4,
 "nbformat_minor": 2
}
