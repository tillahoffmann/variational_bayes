{
 "cells": [
  {
   "cell_type": "code",
   "execution_count": null,
   "metadata": {},
   "outputs": [],
   "source": [
    "import variational_bayes as vb\n",
    "import numpy as np\n",
    "from matplotlib import pyplot as plt\n",
    "from tqdm import tqdm_notebook\n",
    "%matplotlib inline\n",
    "\n",
    "np.random.seed(9)\n",
    "num_samples = 1000\n",
    "num_groups = 5\n",
    "\n",
    "z = np.random.choice(num_groups, num_samples)\n",
    "group_mean = np.random.normal(0, 1, (num_groups, 2))\n",
    "group_precision = np.random.gamma(100, 1, (num_groups, 2))\n",
    "\n",
    "x = np.random.normal(0, 1, (num_samples, 2)) / np.sqrt(group_precision[z]) + group_mean[z]\n",
    "\n",
    "plt.scatter(*x.T, c=z, cmap='Set1')"
   ]
  },
  {
   "cell_type": "code",
   "execution_count": null,
   "metadata": {},
   "outputs": [],
   "source": [
    "def mixture_model(num_groups):\n",
    "    # Set up the factors\n",
    "    q_mean = vb.MultiNormalDistribution(np.random.normal(0, 1e-3, (num_groups, 2)), \n",
    "                                        np.ones((num_groups, 1, 1)) * np.eye(2) * 1e-3)\n",
    "    q_precision = vb.WishartDistribution(2 * np.ones(num_groups), np.ones((num_groups, 1, 1)) * np.eye(2) * 1e-3)\n",
    "    q_z = vb.CategoricalDistribution(np.random.dirichlet(1000 * np.ones(num_groups), num_samples))\n",
    "    \n",
    "    # Evaluate the likelihood\n",
    "    mixture_likelihood = vb.MixtureDistribution(\n",
    "        q_z, vb.MultiNormalDistribution(q_mean, q_precision)\n",
    "    ).likelihood(x[:, None])\n",
    "    \n",
    "    mean_prior = vb.MultiNormalDistribution(np.ones(2), 1e-4 * np.eye(2)).likelihood(q_mean)\n",
    "    precision_prior = vb.WishartDistribution(2, 0.2 * np.eye(2)).likelihood(q_precision)\n",
    "    z_prior = vb.CategoricalDistribution(np.ones(num_groups) / num_groups).likelihood(q_z)\n",
    "\n",
    "    return vb.Model({'mean': q_mean, 'precision': q_precision, 'z': q_z}, \n",
    "                    [mixture_likelihood, z_prior, mean_prior, precision_prior])"
   ]
  },
  {
   "cell_type": "code",
   "execution_count": null,
   "metadata": {},
   "outputs": [],
   "source": [
    "model = mixture_model(num_groups)\n",
    "elbo, converged = model.update(500, tqdm=tqdm_notebook)\n",
    "\n",
    "plt.imshow(model['z'].mean[np.argsort(z)], aspect='auto')"
   ]
  },
  {
   "cell_type": "code",
   "execution_count": null,
   "metadata": {},
   "outputs": [],
   "source": [
    "plt.scatter(*x.T, c=np.argmax(model['z'].mean, axis=1), cmap='Set1')\n",
    "plt.scatter(*model['mean'].mean.T, marker='x', color='k')"
   ]
  },
  {
   "cell_type": "code",
   "execution_count": null,
   "metadata": {},
   "outputs": [],
   "source": [
    "num = [1, 2, 3, 4, 5, 6, 7, 8, 9, 10, 11, 12, 13]\n",
    "elbos = []\n",
    "\n",
    "for n in tqdm_notebook(num):\n",
    "    model = mixture_model(n)\n",
    "    elbo, _ = model.update(200)\n",
    "    elbos.append(elbo[-1])\n",
    "    \n",
    "plt.plot(num, elbos, marker='.')\n",
    "plt.axvline(num_groups)\n",
    "plt.ylabel('ELBO')\n",
    "plt.xlabel('Number of groups')"
   ]
  }
 ],
 "metadata": {
  "kernelspec": {
   "display_name": "Python 3",
   "language": "python",
   "name": "python3"
  },
  "language_info": {
   "codemirror_mode": {
    "name": "ipython",
    "version": 3
   },
   "file_extension": ".py",
   "mimetype": "text/x-python",
   "name": "python",
   "nbconvert_exporter": "python",
   "pygments_lexer": "ipython3",
   "version": "3.5.3"
  }
 },
 "nbformat": 4,
 "nbformat_minor": 2
}
