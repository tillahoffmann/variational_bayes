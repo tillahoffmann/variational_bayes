{
 "cells": [
  {
   "cell_type": "code",
   "execution_count": null,
   "metadata": {},
   "outputs": [],
   "source": [
    "import variational_bayes as vb\n",
    "import numpy as np\n",
    "from matplotlib import pyplot as plt\n",
    "%matplotlib inline"
   ]
  },
  {
   "cell_type": "code",
   "execution_count": null,
   "metadata": {},
   "outputs": [],
   "source": [
    "mean = 5\n",
    "precision = 0.5\n",
    "n = 100\n",
    "\n",
    "x = np.random.normal(0, 1, n) / np.sqrt(precision) + mean"
   ]
  },
  {
   "cell_type": "code",
   "execution_count": null,
   "metadata": {},
   "outputs": [],
   "source": [
    "q_mean = vb.NormalDistribution(0, 1e-3)\n",
    "q_precision = vb.GammaDistribution(1e-3, 1e-3)\n",
    "likelihoods = [\n",
    "    vb.NormalDistribution(q_mean, q_precision).likelihood(x),\n",
    "    vb.GammaDistribution(1e-3, 1e-3).likelihood(q_precision),\n",
    "    vb.NormalDistribution(0, 1e-4).likelihood(q_mean)\n",
    "]\n",
    "\n",
    "model = vb.Model({'mean': q_mean, 'precision': q_precision}, likelihoods)\n",
    "model.elbo"
   ]
  },
  {
   "cell_type": "code",
   "execution_count": null,
   "metadata": {},
   "outputs": [],
   "source": [
    "elbo, _ = model.update(10)"
   ]
  },
  {
   "cell_type": "code",
   "execution_count": null,
   "metadata": {},
   "outputs": [],
   "source": [
    "plt.plot(elbo)\n",
    "print(\"Mean     : %f +- %f\" % (model['mean'].mean, model['mean'].std))\n",
    "print(\"Precision: %f +- %f\" % (model['precision'].mean, model['precision'].std))"
   ]
  },
  {
   "cell_type": "code",
   "execution_count": null,
   "metadata": {},
   "outputs": [],
   "source": [
    "fig, (ax1, ax2) = plt.subplots(1, 2)\n",
    "vb.plot_proba(q_mean, reference=mean, ax=ax1)\n",
    "vb.plot_proba(q_precision, reference=precision, ax=ax2)\n",
    "ax1.set_title('mean')\n",
    "ax2.set_title('precision')"
   ]
  }
 ],
 "metadata": {
  "kernelspec": {
   "display_name": "Python 3",
   "language": "python",
   "name": "python3"
  },
  "language_info": {
   "codemirror_mode": {
    "name": "ipython",
    "version": 3
   },
   "file_extension": ".py",
   "mimetype": "text/x-python",
   "name": "python",
   "nbconvert_exporter": "python",
   "pygments_lexer": "ipython3",
   "version": "3.6.1"
  }
 },
 "nbformat": 4,
 "nbformat_minor": 2
}
