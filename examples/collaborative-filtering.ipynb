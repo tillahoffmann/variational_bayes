{
 "cells": [
  {
   "cell_type": "code",
   "execution_count": null,
   "metadata": {},
   "outputs": [],
   "source": [
    "import numpy as np\n",
    "import variational_bayes as vb\n",
    "import scipy.stats\n",
    "from matplotlib import pyplot as plt, rcParams\n",
    "from tqdm import tqdm_notebook\n",
    "%matplotlib inline\n",
    "rcParams['figure.dpi'] = 144"
   ]
  },
  {
   "cell_type": "code",
   "execution_count": null,
   "metadata": {},
   "outputs": [],
   "source": [
    "# Generate some data\n",
    "np.random.seed(1)\n",
    "n = 50\n",
    "m = 51\n",
    "p = 2\n",
    "x = np.random.normal(0, 1, (n, p))\n",
    "theta = np.random.normal(0, 1, (m, p))\n",
    "predictor = np.dot(x, theta.T)\n",
    "y = np.random.normal(0, 1, predictor.shape) + predictor\n",
    "\n",
    "\n",
    "def collaborative_filtering_model(p):\n",
    "    factors = {\n",
    "        'x': vb.MultiNormalDistribution(\n",
    "            np.random.normal(0, 1, (n, p)), \n",
    "            np.ones((n, p, 1)) * np.eye(p)\n",
    "        ),\n",
    "        'theta': vb.MultiNormalDistribution(\n",
    "            np.random.normal(0, 1, (m, p)), \n",
    "            np.ones((m, p, 1)) * np.eye(p)\n",
    "        ),\n",
    "    }\n",
    "\n",
    "    cf_dist = vb.CollaborativeFilteringDistribution(\n",
    "        factors['x'], factors['theta'], 1.0\n",
    "    )\n",
    "    likelihoods = [\n",
    "        cf_dist.likelihood(y),\n",
    "        # Priors to regularise the inference\n",
    "        vb.MultiNormalDistribution(np.zeros(p), 1e-2 * np.eye(p)).likelihood(factors['x']),\n",
    "        vb.MultiNormalDistribution(np.zeros(p), 1e-2 * np.eye(p)).likelihood(factors['theta']),\n",
    "    ]\n",
    "    return vb.Model(factors, likelihoods)\n",
    "\n",
    "model = collaborative_filtering_model(p)\n",
    "elbos, _ = model.update(None, tqdm_notebook, convergence_predicate=1e-6)\n",
    "plt.plot(elbos[10:])"
   ]
  },
  {
   "cell_type": "code",
   "execution_count": null,
   "metadata": {},
   "outputs": [],
   "source": [
    "fig, ax = plt.subplots(1, 1)\n",
    "\n",
    "a = cf_dist.mean.ravel()\n",
    "b = predictor.ravel()\n",
    "\n",
    "fit = scipy.stats.linregress(a, b)\n",
    "print(\"Slope: %f\" % fit.slope)\n",
    "print(\"Intercept: %f\" % fit.intercept)\n",
    "\n",
    "ax.scatter(a, b, marker='.')\n",
    "ax.set_aspect(1)\n",
    "minmax = np.asarray([np.min(a), np.max(a)])\n",
    "ax.plot(minmax, fit.intercept + fit.slope * minmax, color='C1')\n",
    "ax.set_xlabel('Inferred')\n",
    "ax.set_ylabel('Actual')\n",
    "ax.set_title('Ratings')\n",
    "fig.tight_layout()"
   ]
  },
  {
   "cell_type": "code",
   "execution_count": null,
   "metadata": {},
   "outputs": [],
   "source": [
    "# Determine the transform that maps the actual positions and the\n",
    "# inferred positions onto each other in the least-square sense\n",
    "def func(arg):\n",
    "    b = arg[:p]\n",
    "    A = arg[p:].reshape(p, p)\n",
    "    return (x - (b + np.dot(model['x'].mean, A))).ravel()\n",
    "\n",
    "x0 = np.concatenate([np.zeros(p), np.eye(p).ravel()])\n",
    "fit, _ = scipy.optimize.leastsq(func, x0)\n",
    "b = fit[:p]\n",
    "A = fit[p:].reshape(p, p)\n",
    "\n",
    "fig, (ax1, ax2) = plt.subplots(1, 2, True, True)\n",
    "kwargs = {'marker': '.'}\n",
    "ax1.scatter(*x.T, c=y[:, 0], **kwargs)\n",
    "ax2.scatter(*(b + np.dot(model['x'].mean, A)).T, c=y[:, 0], **kwargs)\n",
    "ax1.set_title('Actual')\n",
    "ax2.set_title('Inferred')\n",
    "fig.suptitle('User positions')\n",
    "fig.tight_layout()"
   ]
  },
  {
   "cell_type": "code",
   "execution_count": null,
   "metadata": {},
   "outputs": [],
   "source": [
    "list_num_dims = [1, 2, 3, 4]\n",
    "elbos = []\n",
    "for num_dims in tqdm_notebook(list_num_dims):\n",
    "    ensemble = vb.ModelEnsemble(collaborative_filtering_model, (num_dims,))\n",
    "    ensemble.update(10, None, tqdm_notebook, convergence_predicate=1e-3)\n",
    "    elbos.append(ensemble.best_elbo)"
   ]
  },
  {
   "cell_type": "code",
   "execution_count": null,
   "metadata": {},
   "outputs": [],
   "source": [
    "fig, ax = plt.subplots(1, 1)\n",
    "ax.plot(list_num_dims, elbos, marker='.')\n",
    "ax.set_xlabel('Number of dimensions')\n",
    "ax.set_ylabel('ELBO')\n",
    "ax.axvline(p, ls=':')\n",
    "fig.tight_layout()"
   ]
  }
 ],
 "metadata": {
  "kernelspec": {
   "display_name": "Python 3",
   "language": "python",
   "name": "python3"
  },
  "language_info": {
   "codemirror_mode": {
    "name": "ipython",
    "version": 3
   },
   "file_extension": ".py",
   "mimetype": "text/x-python",
   "name": "python",
   "nbconvert_exporter": "python",
   "pygments_lexer": "ipython3",
   "version": "3.6.1"
  }
 },
 "nbformat": 4,
 "nbformat_minor": 2
}
