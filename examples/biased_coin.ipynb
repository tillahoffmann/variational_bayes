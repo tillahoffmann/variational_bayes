{
 "cells": [
  {
   "cell_type": "code",
   "execution_count": 1,
   "metadata": {
    "collapsed": true
   },
   "outputs": [],
   "source": [
    "import variational_bayes as vb\n",
    "from matplotlib import pyplot as plt\n",
    "import numpy as np\n",
    "%matplotlib inline"
   ]
  },
  {
   "cell_type": "code",
   "execution_count": 4,
   "metadata": {},
   "outputs": [
    {
     "data": {
      "text/plain": [
       "(array([-10.        ,  -4.70048037,  -4.70048037]), True)"
      ]
     },
     "execution_count": 4,
     "metadata": {},
     "output_type": "execute_result"
    }
   ],
   "source": [
    "np.random.seed(1)\n",
    "# Flip the coin\n",
    "bias = 0.7\n",
    "num_samples = 10\n",
    "x = np.random.uniform(0, 1, num_samples) < bias\n",
    "\n",
    "# Build the model and update it\n",
    "q_bias = vb.BetaDistribution(1, 1)\n",
    "model = vb.Model(\n",
    "    {'bias': q_bias},\n",
    "    [vb.BernoulliDistribution(q_bias).likelihood(x),\n",
    "     vb.BetaDistribution(1, 1).likelihood(q_bias)]\n",
    ")\n",
    "\n",
    "model.update(None, convergence_predicate=1e-4)"
   ]
  },
  {
   "cell_type": "code",
   "execution_count": 3,
   "metadata": {},
   "outputs": [
    {
     "data": {
      "text/plain": [
       "<matplotlib.lines.Line2D at 0x10ce02cf8>"
      ]
     },
     "execution_count": 3,
     "metadata": {},
     "output_type": "execute_result"
    },
    {
     "data": {
      "image/png": "[encoded data removed]",
      "text/plain": [
       "<matplotlib.figure.Figure at 0x10ce02da0>"
      ]
     },
     "metadata": {},
     "output_type": "display_data"
    }
   ],
   "source": [
    "vb.plot_proba(q_bias, reference=bias, start=1e-5, stop=1-1e-5)\n",
    "# Plot the sample mean\n",
    "plt.axvline(np.mean(x), ls=':')"
   ]
  }
 ],
 "metadata": {
  "kernelspec": {
   "display_name": "Python 3",
   "language": "python",
   "name": "python3"
  },
  "language_info": {
   "codemirror_mode": {
    "name": "ipython",
    "version": 3
   },
   "file_extension": ".py",
   "mimetype": "text/x-python",
   "name": "python",
   "nbconvert_exporter": "python",
   "pygments_lexer": "ipython3",
   "version": "3.6.1"
  }
 },
 "nbformat": 4,
 "nbformat_minor": 2
}
