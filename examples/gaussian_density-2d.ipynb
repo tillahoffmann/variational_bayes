{
 "cells": [
  {
   "cell_type": "code",
   "execution_count": null,
   "metadata": {},
   "outputs": [],
   "source": [
    "import variational_bayes as vb\n",
    "import numpy as np\n",
    "from matplotlib import pyplot as plt\n",
    "%matplotlib inline"
   ]
  },
  {
   "cell_type": "code",
   "execution_count": null,
   "metadata": {},
   "outputs": [],
   "source": [
    "mean = np.asarray((5, -2))\n",
    "precision = np.asarray([[4, -1], [-1, 2]])\n",
    "n = 100\n",
    "\n",
    "x = np.random.multivariate_normal(mean, np.linalg.inv(precision), n)"
   ]
  },
  {
   "cell_type": "code",
   "execution_count": null,
   "metadata": {},
   "outputs": [],
   "source": [
    "q_mean = vb.MultiNormalDistribution(np.zeros(2), 1e-3 * np.eye(2))\n",
    "q_precision = vb.WishartDistribution(np.asarray(3), np.eye(2))\n",
    "likelihoods = [\n",
    "    vb.MultiNormalLikelihood(x, q_mean, q_precision),\n",
    "    vb.MultiNormalLikelihood(q_mean, 0, np.eye(2) * 1e-3),\n",
    "    vb.WishartLikelihood(q_precision, 2, np.eye(2) * 1e-3)\n",
    "]\n",
    "\n",
    "model = vb.Model({'mean': q_mean, 'precision': q_precision}, likelihoods)\n",
    "elbo = model.update(10)"
   ]
  },
  {
   "cell_type": "code",
   "execution_count": null,
   "metadata": {},
   "outputs": [],
   "source": [
    "plt.plot(elbo)\n",
    "print(\"Mean     : %s +- %s\" % (model['mean'].mean, model['mean'].std))\n",
    "print(\"Precision: %s +- %s\" % (model['precision'].mean, model['precision'].std))"
   ]
  },
  {
   "cell_type": "code",
   "execution_count": null,
   "metadata": {},
   "outputs": [],
   "source": [
    "fig, (ax1, ax2) = plt.subplots(1, 2)\n",
    "vb.plot_comparison(q_mean, mean, ax=ax1)\n",
    "vb.plot_comparison(q_precision, precision, ax=ax2)"
   ]
  }
 ],
 "metadata": {
  "kernelspec": {
   "display_name": "Python 3",
   "language": "python",
   "name": "python3"
  },
  "language_info": {
   "codemirror_mode": {
    "name": "ipython",
    "version": 3
   },
   "file_extension": ".py",
   "mimetype": "text/x-python",
   "name": "python",
   "nbconvert_exporter": "python",
   "pygments_lexer": "ipython3",
   "version": "3.5.3"
  }
 },
 "nbformat": 4,
 "nbformat_minor": 2
}
