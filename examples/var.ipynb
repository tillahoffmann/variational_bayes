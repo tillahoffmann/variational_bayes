{
 "cells": [
  {
   "cell_type": "code",
   "execution_count": null,
   "metadata": {},
   "outputs": [],
   "source": [
    "import variational_bayes as vb\n",
    "import numpy as np\n",
    "from matplotlib import pyplot as plt, rcParams\n",
    "import scipy.stats\n",
    "from tqdm import tqdm_notebook\n",
    "%matplotlib inline\n",
    "\n",
    "rcParams['figure.dpi'] = 144\n",
    "rcParams['scatter.marker'] = '.'"
   ]
  },
  {
   "cell_type": "code",
   "execution_count": null,
   "metadata": {},
   "outputs": [],
   "source": [
    "np.random.seed(3)\n",
    "num_groups = 3\n",
    "num_nodes = 50\n",
    "order = 2\n",
    "num_steps = 100 * num_nodes * num_nodes\n",
    "\n",
    "# Generate group sizes and groups\n",
    "density = np.random.dirichlet(100 * np.ones(num_groups)) # was 10 when things didn't work\n",
    "z = np.random.choice(num_groups, num_nodes, p=density)\n",
    "onehot = np.zeros((num_nodes, num_groups))\n",
    "onehot[np.arange(num_nodes), z] = 1\n",
    "\n",
    "# Sample noise precisions for all groups\n",
    "noise_precision = np.random.gamma(5000, size=num_groups)\n",
    "# noise_precision = 100\n",
    "\n",
    "# Sample means and precisions of autoregressive coefficients\n",
    "adjacency_mean = np.random.normal(0, 1e-2, size=(num_groups, num_groups, order))\n",
    "adjacency_precision = scipy.stats.wishart.rvs(1e5, np.eye(order), size=(num_groups, num_groups))\n",
    "if adjacency_precision.ndim < 4:\n",
    "    adjacency_precision = adjacency_precision.reshape((num_groups, num_groups, 1, 1))\n",
    "\n",
    "# Sample the means and precisions of the bias\n",
    "bias_mean = np.random.normal(0, 0.1, num_groups)\n",
    "bias_precision = np.random.gamma(1e4, 1, num_groups)\n",
    "\n",
    "# Sample the matrix of autoregressive coefficients\n",
    "cholesky = np.linalg.cholesky(np.linalg.inv(adjacency_precision))\n",
    "cholesky = cholesky[z[:, None], z[None, :]]\n",
    "adjacency = adjacency_mean[z[:, None], z[None, :]] + \\\n",
    "    np.einsum('...ij,...j', cholesky, np.random.normal(0, 1, (num_nodes, num_nodes, order)))\n",
    "    \n",
    "# Sample the bias\n",
    "bias = np.random.normal(0, 1, num_nodes) / np.sqrt(bias_precision[z]) + bias_mean[z]\n",
    "\n",
    "# Construct the coefficients for comparison\n",
    "coefficients = vb.pack_coefficients(adjacency, bias)\n",
    "    \n",
    "# Generate the actual series\n",
    "series = vb.simulate_series(bias, adjacency, noise_precision[z], num_steps)"
   ]
  },
  {
   "cell_type": "code",
   "execution_count": null,
   "metadata": {},
   "outputs": [],
   "source": [
    "fig, ((ax1, ax2), (ax3, ax4)) = plt.subplots(2, 2)\n",
    "ax1.plot(series)\n",
    "if order == 2:\n",
    "    ax2.scatter(*adjacency.reshape((-1, 2)).T, \n",
    "                c=(z[:, None] * num_groups + z[None, :]).ravel(),\n",
    "                cmap='Set1')\n",
    "    ax2.set_aspect('equal')\n",
    "    for i in range(num_groups):\n",
    "        for j in range(num_groups):\n",
    "            ellipse = vb.ellipse_from_cov(\n",
    "                adjacency_mean[i,j], np.linalg.inv(adjacency_precision[i,j]),\n",
    "                facecolor='none', edgecolor='k'\n",
    "            )\n",
    "            ax2.add_artist(ellipse)\n",
    "else:\n",
    "    for i in range(num_groups):\n",
    "        for j in range(num_groups):\n",
    "            color = 'C%d' % ((i * num_groups + j) % 10)\n",
    "            ax2.hist(adjacency[(z==i)[:, None] & (z==j)[None, :]], color=color, normed=True)\n",
    "            \n",
    "\n",
    "for i in range(num_groups):\n",
    "    ax3.hist(bias[z == i], range=(np.min(bias), np.max(bias)))"
   ]
  },
  {
   "cell_type": "code",
   "execution_count": null,
   "metadata": {},
   "outputs": [],
   "source": [
    "np.random.seed(15)\n",
    "given = {\n",
    "    'adjacency_precision': adjacency_precision, \n",
    "    'adjacency_mean': adjacency_mean,\n",
    "    'bias_mean': bias_mean,\n",
    "    'bias_precision': bias_precision,\n",
    "    'density': density,\n",
    "    'z': onehot\n",
    "}\n",
    "given = {}\n",
    "model = vb.var_model(series, order, num_groups, given=given, \n",
    "                     uniform_ic=True, shared_noise=False)"
   ]
  },
  {
   "cell_type": "code",
   "execution_count": null,
   "metadata": {},
   "outputs": [],
   "source": [
    "elbos, _ = model.update(None, tqdm_notebook, convergence_predicate=vb.ConvergencePredicate(1e-4, 10))\n",
    "plt.plot(elbos)"
   ]
  },
  {
   "cell_type": "code",
   "execution_count": null,
   "metadata": {},
   "outputs": [],
   "source": [
    "ordering = vb.cluster_order(model['z'].mean, onehot)\n",
    "plt.imshow(model['z'].mean[np.argsort(z)], aspect='auto')\n",
    "ordering"
   ]
  },
  {
   "cell_type": "code",
   "execution_count": null,
   "metadata": {},
   "outputs": [],
   "source": [
    "for i in range(order):\n",
    "    plt.figure()\n",
    "    x = model['adjacency_mean'].mean[..., i]\n",
    "    vmax = np.max(np.abs(x))\n",
    "    plt.imshow(x, vmax=vmax, vmin=-vmax, cmap='coolwarm')\n",
    "    plt.title(str(i))"
   ]
  },
  {
   "cell_type": "code",
   "execution_count": null,
   "metadata": {},
   "outputs": [],
   "source": [
    "idx = np.argsort(np.argmax(model['z'].mean, axis=1))\n",
    "map_estimate = vb.VARDistribution.coefficient_mle(series, order)\n",
    "\n",
    "q = vb.VARAdjacencyDistribution(model['coefficients'])\n",
    "for i in range(order):\n",
    "    fig, (ax1, ax2) = plt.subplots(1, 2, True, True)\n",
    "    x = q.mean[..., i]\n",
    "    x = x[idx, :][:, idx] \n",
    "    vmax = np.max(np.abs(x))\n",
    "    ax1.imshow(x, vmin=-vmax, vmax=vmax, cmap='coolwarm')\n",
    "    ax2.imshow(adjacency[..., i][idx][:, idx], vmin=-vmax, vmax=vmax, cmap='coolwarm')\n",
    "    fig.suptitle(str(i))\n",
    "    \n",
    "    for ax in (ax1, ax2):\n",
    "        for i in np.nonzero(np.diff(z[idx]))[0]:\n",
    "            ax.axhline(i, color='k')\n",
    "            ax.axvline(i, color='k')"
   ]
  },
  {
   "cell_type": "code",
   "execution_count": null,
   "metadata": {},
   "outputs": [],
   "source": [
    "vb.plot_residuals(model['noise_precision'], noise_precision[z], marker='.')"
   ]
  },
  {
   "cell_type": "code",
   "execution_count": null,
   "metadata": {},
   "outputs": [],
   "source": [
    "vb.plot_residuals(vb.VARAdjacencyDistribution(model['coefficients']), adjacency)"
   ]
  },
  {
   "cell_type": "code",
   "execution_count": null,
   "metadata": {},
   "outputs": [],
   "source": [
    "plt.figure()\n",
    "vb.plot_comparison(model['bias_mean'], bias_mean[ordering], marker='.')\n",
    "plt.title('bias_mean')"
   ]
  },
  {
   "cell_type": "code",
   "execution_count": null,
   "metadata": {},
   "outputs": [],
   "source": [
    "plt.figure()\n",
    "vb.plot_comparison(model['bias_precision'], bias_precision[ordering], marker='.')\n",
    "plt.title('bias_precision')"
   ]
  },
  {
   "cell_type": "code",
   "execution_count": null,
   "metadata": {},
   "outputs": [],
   "source": [
    "plt.figure()\n",
    "vb.plot_comparison(model['adjacency_precision'], adjacency_precision[ordering][:, ordering], marker='.')\n",
    "plt.title('adjacency_precision')"
   ]
  },
  {
   "cell_type": "code",
   "execution_count": null,
   "metadata": {},
   "outputs": [],
   "source": [
    "plt.figure()\n",
    "vb.plot_residuals(model['adjacency_mean'], adjacency_mean[ordering][:, ordering], marker='.')\n",
    "plt.title('adjacency_mean')\n",
    "\n",
    "plt.figure()\n",
    "_x, _y = adjacency.reshape((-1, order)).T\n",
    "pts = plt.scatter(_x, _y, c=(z[:, None] * num_groups + z[None, :]).ravel(),\n",
    "            cmap='Set1', zorder=9)\n",
    "_x, _y = model['adjacency_mean'].mean.reshape((-1, 2)).T\n",
    "_xerr, _yerr = model['adjacency_mean'].std.reshape((-1, 2)).T\n",
    "plt.errorbar(_x, _y, _yerr, _xerr, color='k', ls='none', zorder=99)\n",
    "plt.scatter(_x, _y, marker='x', color='k', zorder=99)\n",
    "plt.gca().set_aspect(1)\n",
    "plt.title('adjacency_mean')\n",
    "plt.colorbar(pts)"
   ]
  },
  {
   "cell_type": "code",
   "execution_count": null,
   "metadata": {},
   "outputs": [],
   "source": [
    "plt.figure()\n",
    "vb.plot_comparison(model['density'], density[ordering], marker='.')\n",
    "plt.title('density')"
   ]
  },
  {
   "cell_type": "code",
   "execution_count": null,
   "metadata": {},
   "outputs": [],
   "source": [
    "fig, (ax1, ax2) = plt.subplots(1, 2, True, True)\n",
    "\n",
    "if 'coefficients' in model._factors:\n",
    "    q_adjacency = vb.VARAdjacencyDistribution(model['coefficients'])\n",
    "else:\n",
    "    q_adjacency = vb.VARAdjacencyDistribution(coefficients)\n",
    "_xerr, _yerr = q_adjacency.std.reshape(-1, order).T * 3\n",
    "_x, _y = q_adjacency.mean.reshape((-1, order)).T\n",
    "ax1.errorbar(_x, _y, _yerr, _xerr, ls='none', c='k', alpha=.1)\n",
    "c = (z[:, None] * num_groups + z[None, :]).ravel()\n",
    "ax1.scatter(_x, _y, c=c, cmap='Set1', zorder=9)\n",
    "ax1.set_aspect(1)\n",
    "\n",
    "for i in range(num_groups):\n",
    "    for j in range(num_groups):\n",
    "        if 'adjacency_precision' in model._factors:\n",
    "            cov = np.linalg.inv(model['adjacency_precision'].mean[i, j])\n",
    "            xy = model['adjacency_mean'].mean[i, j]\n",
    "        else:\n",
    "            cov = np.linalg.inv(adjacency_precision[i, j])\n",
    "            xy = adjacency_mean[i, j]\n",
    "            \n",
    "        ellipse = vb.ellipse_from_cov(\n",
    "            xy,\n",
    "            cov,\n",
    "            facecolor='none', edgecolor='k', zorder=10\n",
    "        )\n",
    "        ax1.add_artist(ellipse)\n",
    "        \n",
    "\n",
    "_x, _y = vb.VARDistribution.coefficient_mle(series, order)[:, 1:].reshape((-1, 2)).T\n",
    "ax2.scatter(_x, _y, c=c, cmap='Set1', zorder=9)\n",
    "\n",
    "\n",
    "for i in range(num_groups):\n",
    "    for j in range(num_groups):\n",
    "        ellipse = vb.ellipse_from_cov(\n",
    "            adjacency_mean[i, j], \n",
    "            np.linalg.inv(adjacency_precision[i, j]),\n",
    "            facecolor='none', edgecolor='k', zorder=10\n",
    "        )\n",
    "        ax2.add_artist(ellipse)\n",
    "\n",
    "for ax in (ax1, ax2):\n",
    "    ax.axvline(0, ls=':')\n",
    "    ax.axhline(0, ls=':')"
   ]
  }
 ],
 "metadata": {
  "kernelspec": {
   "display_name": "Python 3",
   "language": "python",
   "name": "python3"
  },
  "language_info": {
   "codemirror_mode": {
    "name": "ipython",
    "version": 3
   },
   "file_extension": ".py",
   "mimetype": "text/x-python",
   "name": "python",
   "nbconvert_exporter": "python",
   "pygments_lexer": "ipython3",
   "version": "3.5.3"
  }
 },
 "nbformat": 4,
 "nbformat_minor": 2
}
