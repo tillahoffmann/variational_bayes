{
 "cells": [
  {
   "cell_type": "code",
   "execution_count": null,
   "metadata": {},
   "outputs": [],
   "source": [
    "import variational_bayes as vb\n",
    "import numpy as np\n",
    "from matplotlib import pyplot as plt, rcParams\n",
    "import scipy.stats\n",
    "from tqdm import tqdm_notebook\n",
    "%matplotlib inline\n",
    "%load_ext cython\n",
    "\n",
    "rcParams['figure.dpi'] = 144\n",
    "rcParams['scatter.marker'] = '.'"
   ]
  },
  {
   "cell_type": "code",
   "execution_count": null,
   "metadata": {},
   "outputs": [],
   "source": [
    "np.random.seed(3)\n",
    "num_groups = 2\n",
    "num_nodes = 50\n",
    "order = 2\n",
    "num_steps = 10 * num_nodes * num_nodes\n",
    "\n",
    "# Generate group sizes and groups\n",
    "density = np.random.dirichlet(100 * np.ones(num_groups)) # was 10 when things didn't work\n",
    "z = np.random.choice(num_groups, num_nodes, p=density)\n",
    "onehot = np.zeros((num_nodes, num_groups))\n",
    "onehot[np.arange(num_nodes), z] = 1\n",
    "\n",
    "# Sample noise precisions for all groups\n",
    "noise_precision = np.random.gamma(5000, size=num_groups)\n",
    "# noise_precision = 100\n",
    "\n",
    "# Sample means and precisions of autoregressive coefficients\n",
    "adjacency_mean = np.random.normal(0, 1e-2, size=(num_groups, num_groups, order))\n",
    "adjacency_precision = scipy.stats.wishart.rvs(1e4, np.eye(order), size=(num_groups, num_groups))\n",
    "\n",
    "# Sample the means and precisions of the bias\n",
    "bias_mean = np.random.normal(0, 0.1, num_groups)\n",
    "bias_precision = np.random.gamma(1e4, 1, num_groups)\n",
    "\n",
    "# Sample the matrix of autoregressive coefficients\n",
    "cholesky = np.linalg.cholesky(np.linalg.inv(adjacency_precision))\n",
    "cholesky = cholesky[z[:, None], z[None, :]]\n",
    "adjacency = adjacency_mean[z[:, None], z[None, :]] + \\\n",
    "    np.einsum('...ij,...j', cholesky, np.random.normal(0, 1, (num_nodes, num_nodes, order)))\n",
    "    \n",
    "# Sample the bias\n",
    "bias = np.random.normal(0, 1, num_nodes) / np.sqrt(bias_precision[z]) + bias_mean[z]\n",
    "\n",
    "# Construct the coefficients for comparison\n",
    "coefficients = vb.pack_coefficients(adjacency, bias)\n",
    "    \n",
    "# Generate the actual series\n",
    "x = vb.simulate_series(bias, adjacency, noise_precision[z], num_steps)"
   ]
  },
  {
   "cell_type": "code",
   "execution_count": null,
   "metadata": {},
   "outputs": [],
   "source": [
    "fig, ((ax1, ax2), (ax3, ax4)) = plt.subplots(2, 2)\n",
    "ax1.plot(x)\n",
    "ax2.scatter(*adjacency.reshape((-1, 2)).T, \n",
    "            c=(z[:, None] * num_groups + z[None, :]).ravel(),\n",
    "            cmap='Set1')\n",
    "ax2.set_aspect('equal')\n",
    "\n",
    "for i in range(num_groups):\n",
    "    ax3.hist(bias[z == i], range=(np.min(bias), np.max(bias)))"
   ]
  },
  {
   "cell_type": "code",
   "execution_count": null,
   "metadata": {},
   "outputs": [],
   "source": [
    "np.random.seed(15)\n",
    "model = vb.var_model(x, order, num_groups)\n",
    "\n",
    "factor_order = ['coefficients', 'noise_precision', 'adjacency_mean', \n",
    "                'adjacency_precision', 'bias_mean', 'bias_precision', 'z']\n",
    "elbos, _ = model.update(None, tqdm_notebook, factor_order, convergence_predicate=vb.ConvergencePredicate(1e-3, 10))\n",
    "plt.plot(elbos)"
   ]
  },
  {
   "cell_type": "code",
   "execution_count": null,
   "metadata": {},
   "outputs": [],
   "source": [
    "plt.imshow(model['z'].mean[np.argsort(z)], aspect='auto')"
   ]
  },
  {
   "cell_type": "code",
   "execution_count": null,
   "metadata": {},
   "outputs": [],
   "source": [
    "plt.figure()\n",
    "vb.plot_comparison(model['bias_mean'], bias_mean, marker='.')\n",
    "plt.title('bias_mean')"
   ]
  },
  {
   "cell_type": "code",
   "execution_count": null,
   "metadata": {},
   "outputs": [],
   "source": [
    "plt.figure()\n",
    "vb.plot_comparison(model['bias_precision'], bias_precision, marker='.')\n",
    "plt.title('bias_precision')"
   ]
  },
  {
   "cell_type": "code",
   "execution_count": null,
   "metadata": {},
   "outputs": [],
   "source": [
    "plt.figure()\n",
    "vb.plot_comparison(model['adjacency_precision'], adjacency_precision, marker='.')\n",
    "plt.title('adjacency_precision')"
   ]
  },
  {
   "cell_type": "code",
   "execution_count": null,
   "metadata": {},
   "outputs": [],
   "source": [
    "plt.figure()\n",
    "vb.plot_residuals(model['adjacency_mean'], adjacency_mean, marker='.')\n",
    "plt.title('adjacency_mean')\n",
    "\n",
    "plt.figure()\n",
    "_x, _y = adjacency.reshape((-1, order)).T\n",
    "plt.scatter(_x, _y, c=(z[:, None] * num_groups + z[None, :]).ravel(),\n",
    "            cmap='Set1', zorder=9)\n",
    "_x, _y = model['adjacency_mean'].mean.reshape((-1, 2)).T\n",
    "_xerr, _yerr = model['adjacency_mean'].std.reshape((-1, 2)).T\n",
    "plt.errorbar(_x, _y, _yerr, _xerr, color='k', ls='none', zorder=99)\n",
    "plt.scatter(_x, _y, marker='x', color='k', zorder=99)\n",
    "plt.gca().set_aspect(1)\n",
    "plt.title('adjacency_mean')"
   ]
  },
  {
   "cell_type": "code",
   "execution_count": null,
   "metadata": {},
   "outputs": [],
   "source": [
    "plt.figure()\n",
    "vb.plot_comparison(model['density'], density, marker='.')\n",
    "plt.title('density')"
   ]
  },
  {
   "cell_type": "code",
   "execution_count": null,
   "metadata": {},
   "outputs": [],
   "source": [
    "q_adjacency = vb.VARAdjacencyDistribution(model['coefficients'])\n",
    "_xerr, _yerr = q_adjacency.std.reshape(-1, order).T\n",
    "_x, _y = q_adjacency.mean.reshape((-1, order)).T\n",
    "plt.errorbar(_x, _y, _yerr, _xerr, ls='none', c='k', alpha=.5)\n",
    "plt.scatter(_x, _y, c=(z[:, None] * num_groups + z[None, :]).ravel(),\n",
    "            cmap='Set1', zorder=9)\n",
    "plt.gca().set_aspect(1)"
   ]
  }
 ],
 "metadata": {
  "kernelspec": {
   "display_name": "Python 3",
   "language": "python",
   "name": "python3"
  },
  "language_info": {
   "codemirror_mode": {
    "name": "ipython",
    "version": 3
   },
   "file_extension": ".py",
   "mimetype": "text/x-python",
   "name": "python",
   "nbconvert_exporter": "python",
   "pygments_lexer": "ipython3",
   "version": "3.5.3"
  }
 },
 "nbformat": 4,
 "nbformat_minor": 2
}
