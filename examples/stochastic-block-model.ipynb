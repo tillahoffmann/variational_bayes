{
 "cells": [
  {
   "cell_type": "code",
   "execution_count": null,
   "metadata": {},
   "outputs": [],
   "source": [
    "import logging\n",
    "logging.basicConfig()\n",
    "import variational_bayes as vb\n",
    "import numpy as np\n",
    "from matplotlib import pyplot as plt\n",
    "from tqdm import tqdm_notebook\n",
    "import sklearn.metrics\n",
    "import networkx as nx\n",
    "%matplotlib inline"
   ]
  },
  {
   "cell_type": "code",
   "execution_count": null,
   "metadata": {},
   "outputs": [],
   "source": [
    "np.random.seed(3)\n",
    "num_nodes = 50\n",
    "num_groups = 3\n",
    "\n",
    "z = np.random.choice(num_groups, num_nodes)\n",
    "\n",
    "proba = np.random.uniform(0, .05, (num_groups, num_groups))\n",
    "proba[np.diag_indices_from(proba)] += 0.3\n",
    "\n",
    "_proba = proba[z[:, None], z[None, :]]\n",
    "adjacency = np.random.uniform(0, 1, _proba.shape) < _proba\n",
    "onehot = vb.onehot(z, num_groups)\n",
    "\n",
    "graph = nx.from_numpy_matrix(adjacency)\n",
    "pos = nx.spring_layout(graph)\n",
    "\n",
    "fig, (ax1, ax2) = plt.subplots(1, 2)\n",
    "ax1.imshow(proba)\n",
    "nx.draw_networkx_edges(graph, pos, alpha=.5, ax=ax2)\n",
    "nx.draw_networkx_nodes(graph, pos, node_color=z, cmap='Set1', node_size=50, ax=ax2)\n",
    "\n",
    "print(\"Mean degree: %f\" % (np.sum(adjacency) / num_nodes))\n",
    "print(\"Sizes: %s\" % np.bincount(z))"
   ]
  },
  {
   "cell_type": "code",
   "execution_count": null,
   "metadata": {},
   "outputs": [],
   "source": [
    "def stochastic_block_model(adjacency, num_groups, eps=0.1):\n",
    "    adjacency = adjacency.astype(float)\n",
    "    num_nodes, _ = adjacency.shape\n",
    "    \n",
    "    # Standard approach\n",
    "    proba = np.random.dirichlet(1 * np.ones(num_groups), num_nodes)\n",
    "    \n",
    "    q_z = vb.CategoricalDistribution(proba)\n",
    "    q_proba = vb.BetaDistribution(\n",
    "        np.ones((num_groups, num_groups)) * np.mean(adjacency),\n",
    "        np.random.uniform(max(1 - eps, 0), 1 + eps, (num_groups, num_groups))\n",
    "    )\n",
    "    \n",
    "    likelihoods = [\n",
    "        vb.InteractingMixtureDistribution(q_z, vb.BernoulliDistribution(q_proba)).likelihood(adjacency[..., None, None]),\n",
    "        vb.CategoricalDistribution(np.ones(num_groups) / num_groups).likelihood(q_z),\n",
    "        vb.BetaDistribution(1, 1).likelihood(q_proba),\n",
    "    ]\n",
    "    \n",
    "    return vb.InteractingMixtureModel({'z': q_z, 'proba': q_proba}, likelihoods, ['z', 'proba'])"
   ]
  },
  {
   "cell_type": "code",
   "execution_count": null,
   "metadata": {},
   "outputs": [],
   "source": [
    "ensemble = vb.ModelEnsemble(stochastic_block_model, (adjacency, num_groups, 0.5))\n",
    "best_model = ensemble.update(10, None, tqdm_notebook, convergence_predicate=vb.ConvergencePredicate(1e-3, 10))\n",
    "best_model.elbo"
   ]
  },
  {
   "cell_type": "code",
   "execution_count": null,
   "metadata": {},
   "outputs": [],
   "source": [
    "model = best_model\n",
    "\n",
    "fig, (ax1, ax2) = plt.subplots(1, 2, sharex=True)\n",
    "im = ax1.imshow(model['proba'].mean)\n",
    "plt.colorbar(im, ax=ax1)\n",
    "im = ax2.imshow(model['z'].mean[np.argsort(z)], aspect='auto')\n",
    "plt.colorbar(im, ax=ax2)\n",
    "sklearn.metrics.adjusted_rand_score(z, np.argmax(model['z'].mean, axis=1))\n",
    "fig.tight_layout()"
   ]
  },
  {
   "cell_type": "code",
   "execution_count": null,
   "metadata": {},
   "outputs": [],
   "source": [
    "list_num_groups = [1, 2, 3, 4, 5, 6]\n",
    "elbos = []\n",
    "for _num_groups in tqdm_notebook(list_num_groups):\n",
    "    ensemble = vb.ModelEnsemble(stochastic_block_model, (adjacency, _num_groups))\n",
    "    ensemble.update(20, None, convergence_predicate=vb.ConvergencePredicate(1e-3, 10))\n",
    "    elbos.append(ensemble.best_elbo)"
   ]
  },
  {
   "cell_type": "code",
   "execution_count": null,
   "metadata": {},
   "outputs": [],
   "source": [
    "plt.plot(list_num_groups, np.asarray(elbos) - np.max(elbos), marker='.')\n",
    "plt.axvline(num_groups)\n",
    "plt.xlabel('Number of groups')\n",
    "plt.ylabel('ELBO - max(ELBO)')"
   ]
  }
 ],
 "metadata": {
  "kernelspec": {
   "display_name": "Python 3",
   "language": "python",
   "name": "python3"
  },
  "language_info": {
   "codemirror_mode": {
    "name": "ipython",
    "version": 3
   },
   "file_extension": ".py",
   "mimetype": "text/x-python",
   "name": "python",
   "nbconvert_exporter": "python",
   "pygments_lexer": "ipython3",
   "version": "3.5.3"
  }
 },
 "nbformat": 4,
 "nbformat_minor": 2
}
