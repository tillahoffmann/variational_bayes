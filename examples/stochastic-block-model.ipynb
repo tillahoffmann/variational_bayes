{
 "cells": [
  {
   "cell_type": "code",
   "execution_count": null,
   "metadata": {},
   "outputs": [],
   "source": [
    "import variational_bayes as vb\n",
    "import numpy as np\n",
    "from matplotlib import pyplot as plt\n",
    "from tqdm import tqdm_notebook\n",
    "import sklearn.metrics\n",
    "%matplotlib inline"
   ]
  },
  {
   "cell_type": "code",
   "execution_count": null,
   "metadata": {},
   "outputs": [],
   "source": [
    "np.random.normal(1)\n",
    "num_nodes = 200\n",
    "num_groups = 5\n",
    "\n",
    "z = np.random.choice(num_groups, num_nodes)\n",
    "\n",
    "proba = np.random.uniform(0, .1, (num_groups, num_groups))\n",
    "i = np.arange(num_groups)\n",
    "proba[i, i] = np.random.uniform(.2, 1, num_groups)\n",
    "# proba = np.eye(num_groups) * .8 + .1\n",
    "\n",
    "\n",
    "_proba = proba[z[None, :], z[:, None]]\n",
    "adjacency = np.random.uniform(0, 1, _proba.shape) < _proba\n",
    "onehot = np.zeros((num_nodes, num_groups))\n",
    "onehot[np.arange(num_nodes), z] = 1"
   ]
  },
  {
   "cell_type": "code",
   "execution_count": null,
   "metadata": {},
   "outputs": [],
   "source": [
    "class StochasticBlockModel(vb.Model):\n",
    "    def __init__(self, adjacency, num_groups):\n",
    "        num_nodes, _ = adjacency.shape\n",
    "        q_z = vb.CategoricalDistribution(np.random.dirichlet(1000 * np.ones(num_groups), num_nodes))\n",
    "        q_proba = vb.BetaDistribution(10 + np.random.exponential(1e-3, (num_groups, num_groups)),\n",
    "                                      10 + np.random.exponential(1e-3, (num_groups, num_groups)))\n",
    "        \n",
    "        likelihoods = [\n",
    "            vb.InteractingMixtureLikelihood(q_z, vb.BernoulliLikelihood, \n",
    "                                            x=adjacency[..., None, None], proba=q_proba),\n",
    "            vb.CategoricalLikelihood(q_z, np.ones(num_groups) / num_groups),\n",
    "            vb.BetaLikelihood(q_proba, 1, 1),\n",
    "        ]\n",
    "        \n",
    "        super(StochasticBlockModel, self).__init__({\n",
    "            'z': q_z, \n",
    "            'proba': q_proba\n",
    "        }, likelihoods)\n",
    "        \n",
    "    def update_factor(self, factor):\n",
    "        if isinstance(factor, str):\n",
    "            factor = self._factors[factor]\n",
    "        if factor is self._factors.get('z'):\n",
    "            # Collect the natural parameters except for the interacting mixture\n",
    "            mixture = self._likelihoods[0]\n",
    "            natural_parameters = self.aggregate_natural_parameters(factor, [mixture])\n",
    "            natural_parameters = mixture.indicator_natural_parameters(natural_parameters, **mixture.parameters)\n",
    "            factor.update_from_natural_parameters(natural_parameters)\n",
    "        else:\n",
    "            super(StochasticBlockModel, self).update_factor(factor)"
   ]
  },
  {
   "cell_type": "code",
   "execution_count": null,
   "metadata": {},
   "outputs": [],
   "source": [
    "ensemble = vb.ModelEnsemble(StochasticBlockModel, (adjacency, num_groups))\n",
    "ensemble.update(20, None, tqdm_notebook, convergence_predicate=vb.ConvergencePredicate(1e-3, 10))"
   ]
  },
  {
   "cell_type": "code",
   "execution_count": null,
   "metadata": {},
   "outputs": [],
   "source": [
    "fig, (ax1, ax2) = plt.subplots(1, 2, sharex=True)\n",
    "ax1.imshow(ensemble.best_model['proba'].mean)\n",
    "ax2.imshow(ensemble.best_model['z'].mean[np.argsort(z)], aspect='auto')\n",
    "sklearn.metrics.adjusted_rand_score(z, np.argmax(ensemble.best_model['z'].mean, axis=1))"
   ]
  }
 ],
 "metadata": {
  "kernelspec": {
   "display_name": "Python 3",
   "language": "python",
   "name": "python3"
  },
  "language_info": {
   "codemirror_mode": {
    "name": "ipython",
    "version": 3
   },
   "file_extension": ".py",
   "mimetype": "text/x-python",
   "name": "python",
   "nbconvert_exporter": "python",
   "pygments_lexer": "ipython3",
   "version": "3.5.3"
  }
 },
 "nbformat": 4,
 "nbformat_minor": 2
}
