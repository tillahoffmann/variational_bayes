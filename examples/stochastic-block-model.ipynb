{
 "cells": [
  {
   "cell_type": "code",
   "execution_count": null,
   "metadata": {},
   "outputs": [],
   "source": [
    "import variational_bayes as vb\n",
    "import numpy as np\n",
    "from matplotlib import pyplot as plt\n",
    "from tqdm import tqdm_notebook\n",
    "import sklearn.metrics\n",
    "%matplotlib inline"
   ]
  },
  {
   "cell_type": "code",
   "execution_count": null,
   "metadata": {},
   "outputs": [],
   "source": [
    "np.random.seed(1)\n",
    "num_nodes = 100\n",
    "num_groups = 3\n",
    "\n",
    "z = np.random.choice(num_groups, num_nodes)\n",
    "\n",
    "proba = np.random.uniform(0, 1, (num_groups, num_groups))\n",
    "\n",
    "_proba = proba[z[None, :], z[:, None]]\n",
    "adjacency = np.random.uniform(0, 1, _proba.shape) < _proba\n",
    "onehot = np.zeros((num_nodes, num_groups))\n",
    "onehot[np.arange(num_nodes), z] = 1"
   ]
  },
  {
   "cell_type": "code",
   "execution_count": null,
   "metadata": {},
   "outputs": [],
   "source": [
    "def stochastic_block_model(adjacency, num_groups):\n",
    "    num_nodes, _ = adjacency.shape\n",
    "    q_z = vb.CategoricalDistribution(np.random.dirichlet(1000 * np.ones(num_groups), num_nodes))\n",
    "    q_proba = vb.BetaDistribution(10 + np.random.exponential(1e-3, (num_groups, num_groups)),\n",
    "                                  10 + np.random.exponential(1e-3, (num_groups, num_groups)))\n",
    "    \n",
    "    likelihoods = [\n",
    "        vb.InteractingMixtureDistribution(q_z, vb.BernoulliDistribution(q_proba)).likelihood(adjacency[..., None, None]),\n",
    "        vb.CategoricalDistribution(np.ones(num_groups) / num_groups).likelihood(q_z),\n",
    "        vb.BetaDistribution(1, 1).likelihood(q_proba),\n",
    "    ]\n",
    "    \n",
    "    return vb.InteractingMixtureModel({'z': q_z, 'proba': q_proba}, likelihoods)"
   ]
  },
  {
   "cell_type": "code",
   "execution_count": null,
   "metadata": {},
   "outputs": [],
   "source": [
    "ensemble = vb.ModelEnsemble(stochastic_block_model, (adjacency, num_groups))\n",
    "ensemble.update(20, None, tqdm_notebook, convergence_predicate=vb.ConvergencePredicate(1e-3, 10))"
   ]
  },
  {
   "cell_type": "code",
   "execution_count": null,
   "metadata": {},
   "outputs": [],
   "source": [
    "fig, (ax1, ax2) = plt.subplots(1, 2, sharex=True)\n",
    "ax1.imshow(ensemble.best_model['proba'].mean)\n",
    "ax2.imshow(ensemble.best_model['z'].mean[np.argsort(z)], aspect='auto')\n",
    "sklearn.metrics.adjusted_rand_score(z, np.argmax(ensemble.best_model['z'].mean, axis=1))"
   ]
  },
  {
   "cell_type": "code",
   "execution_count": null,
   "metadata": {},
   "outputs": [],
   "source": [
    "list_num_groups = [1, 2, 3, 4, 5, 6]\n",
    "elbos = []\n",
    "for _num_groups in tqdm_notebook(list_num_groups):\n",
    "    ensemble = vb.ModelEnsemble(stochastic_block_model, (adjacency, _num_groups))\n",
    "    ensemble.update(20, None, convergence_predicate=vb.ConvergencePredicate(1e-3, 10))\n",
    "    elbos.append(ensemble.best_elbo)"
   ]
  },
  {
   "cell_type": "code",
   "execution_count": null,
   "metadata": {},
   "outputs": [],
   "source": [
    "plt.plot(list_num_groups, np.asarray(elbos) - np.max(elbos), marker='.')\n",
    "plt.axvline(num_groups)"
   ]
  }
 ],
 "metadata": {
  "kernelspec": {
   "display_name": "Python 3",
   "language": "python",
   "name": "python3"
  },
  "language_info": {
   "codemirror_mode": {
    "name": "ipython",
    "version": 3
   },
   "file_extension": ".py",
   "mimetype": "text/x-python",
   "name": "python",
   "nbconvert_exporter": "python",
   "pygments_lexer": "ipython3",
   "version": "3.5.3"
  }
 },
 "nbformat": 4,
 "nbformat_minor": 2
}
