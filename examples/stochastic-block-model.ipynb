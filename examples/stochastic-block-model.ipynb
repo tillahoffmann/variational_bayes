{
 "cells": [
  {
   "cell_type": "code",
   "execution_count": null,
   "metadata": {},
   "outputs": [],
   "source": [
    "import logging\n",
    "logging.basicConfig()\n",
    "import variational_bayes as vb\n",
    "import numpy as np\n",
    "from matplotlib import pyplot as plt\n",
    "from tqdm import tqdm_notebook\n",
    "import sklearn.metrics\n",
    "import networkx as nx\n",
    "%matplotlib inline"
   ]
  },
  {
   "cell_type": "code",
   "execution_count": null,
   "metadata": {},
   "outputs": [],
   "source": [
    "def simulate(num_nodes=50, num_groups=3, seed=3, mask=None):\n",
    "    if seed is not None:\n",
    "        np.random.seed(seed)\n",
    "\n",
    "    z = np.random.choice(num_groups, num_nodes)\n",
    "    onehot = vb.onehot(z, num_groups)\n",
    "\n",
    "    proba = np.random.uniform(0, .05, (num_groups, num_groups))\n",
    "    proba[np.diag_indices_from(proba)] += 0.2\n",
    "\n",
    "    _proba = proba[z[:, None], z[None, :]]\n",
    "    adjacency = np.random.uniform(0, 1, _proba.shape) < _proba\n",
    "    # Mask the diagonal of the array with a fixed value\n",
    "    if mask is not None:\n",
    "        adjacency[np.diag_indices_from(adjacency)] = mask\n",
    "    \n",
    "    return {\n",
    "        'num_nodes': num_nodes,\n",
    "        'num_groups': num_groups,\n",
    "        'seed': seed,\n",
    "        'z': z,\n",
    "        'onehot': onehot,\n",
    "        'proba': proba,\n",
    "        'adjacency': adjacency,\n",
    "        'mask': mask,\n",
    "    }\n",
    "\n",
    "simulation = simulate(seed=3, mask=1e18)\n",
    "graph = nx.from_numpy_matrix(simulation['adjacency'])\n",
    "graph.remove_edges_from(graph.selfloop_edges())\n",
    "pos = nx.spring_layout(graph)\n",
    "\n",
    "fig, (ax1, ax2) = plt.subplots(1, 2)\n",
    "ax1.imshow(simulation['proba'])\n",
    "nx.draw_networkx_edges(graph, pos, alpha=.5, ax=ax2)\n",
    "nx.draw_networkx_nodes(graph, pos, node_color=simulation['z'], cmap='Set1', node_size=50, ax=ax2)\n",
    "\n",
    "print(\"Mean degree: %f\" % (sum(graph.degree().values()) / simulation['num_nodes']))\n",
    "print(\"Sizes: %s\" % np.bincount(simulation['z']))"
   ]
  },
  {
   "cell_type": "code",
   "execution_count": null,
   "metadata": {},
   "outputs": [],
   "source": [
    "def stochastic_block_model(adjacency, num_groups, eps=0.5, mask=None):\n",
    "    adjacency = adjacency.astype(float)\n",
    "    num_nodes, _ = adjacency.shape\n",
    "    \n",
    "    proba = np.random.dirichlet(1 * np.ones(num_groups), num_nodes)\n",
    "    q_z = vb.CategoricalDistribution(proba)\n",
    "    \n",
    "    adjacency_mean = np.mean(adjacency) if mask is None else np.mean(adjacency[adjacency != mask])\n",
    "    q_proba = vb.BetaDistribution(\n",
    "        np.ones((num_groups, num_groups)) * adjacency_mean,\n",
    "        np.random.uniform(max(1 - eps, 0), 1 + eps, (num_groups, num_groups))\n",
    "    )\n",
    "    \n",
    "    likelihoods = [\n",
    "        vb.InteractingMixtureDistribution(\n",
    "            q_z, vb.BernoulliDistribution(q_proba), self_interaction=mask is None\n",
    "        ).likelihood(adjacency[..., None, None]),\n",
    "        vb.CategoricalDistribution(np.ones(num_groups) / num_groups).likelihood(q_z),\n",
    "        vb.BetaDistribution(.5, .5).likelihood(q_proba),\n",
    "    ]\n",
    "    \n",
    "    return vb.InteractingMixtureModel({'z': q_z, 'proba': q_proba}, likelihoods, ['z', 'proba'])"
   ]
  },
  {
   "cell_type": "code",
   "execution_count": null,
   "metadata": {},
   "outputs": [],
   "source": [
    "ensemble = vb.ModelEnsemble(stochastic_block_model, (simulation['adjacency'], simulation['num_groups']),\n",
    "                            {'mask': simulation['mask']})\n",
    "best_model = ensemble.update(50, None, tqdm_notebook, num_processes=4,\n",
    "                             convergence_predicate=vb.ConvergencePredicate(1e-3, 10))\n",
    "plt.plot(np.sort(ensemble.elbos), marker='.')"
   ]
  },
  {
   "cell_type": "code",
   "execution_count": null,
   "metadata": {},
   "outputs": [],
   "source": [
    "model = best_model\n",
    "\n",
    "fig, (ax1, ax2) = plt.subplots(1, 2, sharex=True)\n",
    "im = ax1.imshow(model['proba'].mean)\n",
    "plt.colorbar(im, ax=ax1)\n",
    "im = ax2.imshow(model['z'].mean[np.argsort(simulation['z'])], aspect='auto')\n",
    "plt.colorbar(im, ax=ax2)\n",
    "sklearn.metrics.adjusted_rand_score(simulation['z'], np.argmax(model['z'].mean, axis=1))\n",
    "fig.tight_layout()\n",
    "\n",
    "plt.figure()\n",
    "vb.plot_comparison(model['proba'], simulation['proba'], marker='.')\n",
    "plt.title('Probabilities')"
   ]
  },
  {
   "cell_type": "code",
   "execution_count": null,
   "metadata": {},
   "outputs": [],
   "source": [
    "list_num_groups = [1, 2, 3, 4, 5, 6]\n",
    "elbos = []\n",
    "ensembles = []\n",
    "\n",
    "fig = plt.figure()\n",
    "ax = fig.add_subplot(111)\n",
    "\n",
    "for _num_groups in tqdm_notebook(list_num_groups):\n",
    "    # Create the ensemble and update it\n",
    "    ensemble = vb.ModelEnsemble(stochastic_block_model, (simulation['adjacency'], _num_groups))\n",
    "    ensemble.update(50, None, convergence_predicate=vb.ConvergencePredicate(1e-3, 10), num_processes=4)\n",
    "    elbos.append(ensemble.best_elbo)\n",
    "    ensembles.append(ensemble)\n",
    "    \n",
    "    # Plot the distribution of values\n",
    "    ax.plot(np.sort(ensemble.elbos), label=str(_num_groups), marker='.')\n",
    "    \n",
    "    # Provide visualisation of the inferred assignments\n",
    "    plt.figure()\n",
    "    nx.draw_networkx_edges(graph, pos, alpha=.5)\n",
    "    nx.draw_networkx_nodes(graph, pos, node_color=np.argmax(ensemble.best_model['z'].mean, axis=1), \n",
    "                           cmap='Set1', node_size=50)\n",
    "    plt.title(str(_num_groups))\n",
    "    \n",
    "ax.legend()"
   ]
  },
  {
   "cell_type": "code",
   "execution_count": null,
   "metadata": {},
   "outputs": [],
   "source": [
    "plt.plot(list_num_groups, np.asarray(elbos) - np.max(elbos), marker='.')\n",
    "plt.axvline(simulation['num_groups'])\n",
    "plt.xlabel('Number of groups')\n",
    "plt.ylabel('ELBO - max(ELBO)')"
   ]
  }
 ],
 "metadata": {
  "kernelspec": {
   "display_name": "Python 3",
   "language": "python",
   "name": "python3"
  },
  "language_info": {
   "codemirror_mode": {
    "name": "ipython",
    "version": 3
   },
   "file_extension": ".py",
   "mimetype": "text/x-python",
   "name": "python",
   "nbconvert_exporter": "python",
   "pygments_lexer": "ipython3",
   "version": "3.5.3"
  }
 },
 "nbformat": 4,
 "nbformat_minor": 2
}
